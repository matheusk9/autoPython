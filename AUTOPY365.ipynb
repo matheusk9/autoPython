{
 "metadata": {
  "language_info": {
   "codemirror_mode": {
    "name": "ipython",
    "version": 3
   },
   "file_extension": ".py",
   "mimetype": "text/x-python",
   "name": "python",
   "nbconvert_exporter": "python",
   "pygments_lexer": "ipython3",
   "version": "3.9.5"
  },
  "orig_nbformat": 2,
  "kernelspec": {
   "name": "python3",
   "display_name": "Python 3.9.5 64-bit"
  },
  "metadata": {
   "interpreter": {
    "hash": "2ee4f6e0e834d591991998ae58272f53e12651f54da318687118bbf728ab7bef"
   }
  },
  "interpreter": {
   "hash": "2ee4f6e0e834d591991998ae58272f53e12651f54da318687118bbf728ab7bef"
  }
 },
 "nbformat": 4,
 "nbformat_minor": 2,
 "cells": [
  {
   "cell_type": "code",
   "execution_count": 33,
   "metadata": {},
   "outputs": [],
   "source": [
    "from PIL import Image \n",
    "import pyautogui as auto\n",
    "import pyperclip as cp\n",
    "import time\n",
    "import timeit\n",
    "\n",
    "def copia_cola():\n",
    "    auto.hotkey(\"ctrl\",\"c\")\n",
    "    return cp.paste()\n",
    "\n",
    "#Função que procura uma imagem especifica na tela e clica\n",
    "def ver_retorno():\n",
    "    auto.write(retorno)\n",
    "    retornoSimples = auto.locateOnScreen(c+\"retT.png\")\n",
    "    if retornoSimples:\n",
    "        auto.tripleClick(c+\"retT.png\")\n",
    "    else:\n",
    "        retornoPers = auto.locateOnScreen(c+\"pers_ret1.png\")\n",
    "        if retornoPers:\n",
    "            auto.tripleClick(c+\"pers_ret1.png\")\n",
    "        else:\n",
    "            retornoLiquido = auto.locateOnScreen(c+\"retorno_liq1.png\")\n",
    "            if retornoLiquido:\n",
    "                auto.tripleClick(c+\"retorno_liq1.png\")\n",
    "            else:\n",
    "                total_rt = auto.locateOnScreen(c+\"total_retornos.png\")\n",
    "                if total_rt:\n",
    "                    auto.tripleClick(c+\"total_retornos.png\")\n",
    "                else:\n",
    "                    auto.tripleClick(c+\"total_retornos2.png\")\n",
    "\n",
    "def formatacao(entrada, porcent):\n",
    "    stake = (entrada*porcent)\n",
    "    stake = \"{:.2f}\".format(stake).replace(\".\",\",\")\n",
    "    return stake\n",
    "\n",
    "def unidades(lista_bets):\n",
    "    if lista_bets[linhas][1] == formatacao(u,1):\n",
    "        auto.write(\"1u\")\n",
    "    elif lista_bets[linhas][1] == formatacao(u,0.5):\n",
    "        auto.write(\"0.5u\")\n",
    "    elif lista_bets[linhas][1] == formatacao(u,0.25):\n",
    "        auto.write(\"0.25u\")\n",
    "    elif lista_bets[linhas][1] == formatacao(u,0.2):\n",
    "        auto.write(\"0.2u\")\n",
    "    elif lista_bets[linhas][1] == formatacao(u,0.75):\n",
    "        auto.write(\"0.75u\")\n",
    "    elif lista_bets[linhas][1] == formatacao(u,2):\n",
    "        auto.write(\"2u\")\n",
    "    elif lista_bets[linhas][1] == formatacao(u,0.1):\n",
    "        auto.write(\"0.1u\")\n",
    "    elif lista_bets[linhas][1] == formatacao(u,1.5):\n",
    "        auto.write(\"1.5u\")\n",
    "    elif lista_bets[linhas][1] == formatacao(u,1.25):\n",
    "        auto.write(\"1.25u\")\n",
    "    else:\n",
    "        auto.press(\"tab\")\n",
    "        auto.write(lista_bets[linhas][1])\n",
    "        auto.press(\"left\",presses=3, interval=0.2)\n",
    "        auto.press(\"tab\",presses = 2)\n",
    "\n",
    "def click_img(pesquisa, imagem=\"\", set_down=False):\n",
    "    auto.write(pesquisa)\n",
    "    if set_down:\n",
    "        auto.press(\"down\", interval=0.2)\n",
    "    auto.tripleClick(imagem)\n",
    "    bets_temp.append(copia_cola().strip(\"Aposta R$ \\r\\n\"))\n",
    "    auto.tripleClick(x=1073, y=75)"
   ]
  },
  {
   "cell_type": "code",
   "execution_count": 34,
   "metadata": {},
   "outputs": [
    {
     "output_type": "stream",
     "name": "stdout",
     "text": [
      "ENTRADAS DO USUARIO> STAKE: 20.0 QTD_APOSTA: 3 DATA: 06/2021\n"
     ]
    }
   ],
   "source": [
    "#IMPORTANDO PASTA COM AS IMAGENS NECESSÁRIAS\n",
    "\n",
    "c = \"C:\\\\Users\\\\Matheus Freitas\\\\Desktop\\\\AUTO_PYTHON\\\\Jupyter\\\\Imagens\\\\\"\n",
    "time.sleep(8)\n",
    "val_aposta = 'Aposta R$'\n",
    "retorno = 'Retorno'\n",
    "bets = []\n",
    "auto.PAUSE = 0.5\n",
    "auto.hotkey(\"ctrl\",\"f\")\n",
    "auto.write(val_aposta)\n",
    "\n",
    "#INFORMAÇÕES\\ENTRADAS QUE O USER DEVE FORNECER\n",
    "u = float(auto.prompt(text=\"Informe o valor da sua stake: \", \n",
    "                        title=\"AUTO PYTHON365 100%\").replace(\",\",\".\"))\n",
    "entrada_user = auto.prompt(text=\"Digite quantas apostas deseja copiar:\",\n",
    "                            title=\"AUTO PYTHON365 100%\",default=\"\")\n",
    "data_bet = auto.prompt(text=\"Informe o mês e ano das apostas:\",\n",
    "                        title=\"AUTO PYTHON365 100%\", default=\"\")\n",
    "auto.press(\"del\")\n",
    "\n",
    "print(\"ENTRADAS DO USUARIO> STAKE:\",u,\"QTD_APOSTA: \"+entrada_user,\"DATA: \"+data_bet)"
   ]
  },
  {
   "source": [
    "# SELECIONANDO E ARMAZENANDO AS APOSTAS RESOLVIDAS EM UMA LISTA"
   ],
   "cell_type": "markdown",
   "metadata": {}
  },
  {
   "cell_type": "code",
   "execution_count": 35,
   "metadata": {},
   "outputs": [
    {
     "output_type": "stream",
     "name": "stdout",
     "text": [
      "APOSTAS: [['14/06/2021', '20,00', '32,31'], ['14/06/2021', '20,00', '0,00'], ['14/06/2021', '20,00', '0,00']] \nTempo gasto na coleta:  39 seg\n"
     ]
    }
   ],
   "source": [
    "#Ordem de resultados na lista: 'data','valor investido', 'retorno'.\n",
    "inicio_coleta = timeit.default_timer()\n",
    "for x in range(int(entrada_user)):\n",
    "    bets_temp = []\n",
    "    auto.tripleClick(x=1073, y=75)\n",
    "    click_img(data_bet, imagem=c+\"data_edge100.png\")\n",
    "    click_img(\"Aposta R$\", imagem=c+\"ApostaRS_edge100.png\", set_down=True)\n",
    "    ver_retorno()\n",
    "    bets_temp.append(copia_cola().strip(\"Total de Retornos Retorno Líquido R$ \\r\\n\"))\n",
    "    auto.tripleClick(x=1073, y=75)\n",
    "    bets.append(bets_temp)\n",
    "fim_coleta = timeit.default_timer()\n",
    "print(\"APOSTAS:\",bets,\"\\nTempo gasto na coleta: \",int(fim_coleta-inicio_coleta),\"seg\")"
   ]
  },
  {
   "source": [
    "# EXTRAINDO OS DADOS DA LISTA E INSERINDO NA PLANILHA"
   ],
   "cell_type": "markdown",
   "metadata": {}
  },
  {
   "cell_type": "code",
   "execution_count": 36,
   "metadata": {},
   "outputs": [
    {
     "output_type": "stream",
     "name": "stdout",
     "text": [
      "Tempo gasto na extração e inserção:  18 seg\nTempo total gasto pelo robô:  57 seg\n"
     ]
    }
   ],
   "source": [
    "inicio_ext = timeit.default_timer()\n",
    "auto.hotkey(\"alt\",\"tab\")\n",
    "auto.click(c+\"jogo_plan.png\",interval=0.4)\n",
    "auto.hotkey(\"ctrl\",\"down\")\n",
    "auto.press([\"down\", \"left\"], interval=0.4)\n",
    "for linhas in range(int(entrada_user)):\n",
    "    auto.write(bets[linhas][0])\n",
    "    auto.press(\"tab\")\n",
    "    #JOGO\n",
    "    auto.write(\"autoBet365\")\n",
    "    auto.press(\"tab\")\n",
    "    #UNIDADES\n",
    "    unidades(bets)\n",
    "    auto.press(\"tab\",presses=4, interval=0.2)\n",
    "    auto.write(bets[linhas][2])\n",
    "    auto.press(\"enter\")\n",
    "fim_ext = timeit.default_timer()\n",
    "print(\"Tempo gasto na extração e inserção: \",int(fim_ext-inicio_ext),\"seg\\nTempo total gasto pelo robô: \",int((fim_ext-inicio_ext)+(fim_coleta-inicio_coleta)),\"seg\")\n"
   ]
  }
 ]
}